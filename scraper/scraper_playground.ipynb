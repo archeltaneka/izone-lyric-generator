{
 "cells": [
  {
   "cell_type": "markdown",
   "metadata": {},
   "source": [
    "# Web-scraping Playground\n",
    "\n",
    "According to Wikipedia:\n",
    "> Web scraping, web harvesting, or web data extraction is data scraping used for extracting data from websites. Web scraping software may access the World Wide Web directly using the Hypertext Transfer Protocol, or through a web browser. While web scraping can be done manually by a software user, the term typically refers to automated processes implemented using a bot or web crawler. It is a form of copying, in which specific data is gathered and copied from the web, typically into a central local database or spreadsheet, for later retrieval or analysis.\n",
    "\n",
    "We will use the website from https://genius.com/ to scrape your own favorite lyrics.\n",
    "\n",
    "This notebook will guide you how to scrape the lyrics and I will explain each blocks of codes step by step."
   ]
  },
  {
   "cell_type": "markdown",
   "metadata": {},
   "source": [
    "Let's start with importing necessary libraries"
   ]
  },
  {
   "cell_type": "code",
   "execution_count": 1,
   "metadata": {},
   "outputs": [],
   "source": [
    "import requests\n",
    "import time\n",
    "import re\n",
    "\n",
    "from bs4 import BeautifulSoup\n",
    "from tqdm import tqdm"
   ]
  },
  {
   "cell_type": "markdown",
   "metadata": {},
   "source": [
    "1. requests: http requests (we mainly use GET method from this library)\n",
    "2. bs4: BeautifulSoup library which is widely used in web-scraping\n",
    "3. re: for regex purpsoes\n",
    "4. tqdm: a nice progress bar for scraping indicator\n",
    "\n",
    "Next, find your favorite songs or artists! I will use the songs from a K-pop girlgroup, IZ*ONE https://genius.com/artists/Izone"
   ]
  },
  {
   "cell_type": "code",
   "execution_count": 2,
   "metadata": {},
   "outputs": [],
   "source": [
    "# specify lyric's urls\n",
    "URL = ['https://genius.com/albums/Izone/Color-iz',\n",
    "       'https://genius.com/albums/Izone/Heart-iz',\n",
    "       'https://genius.com/albums/Izone/Vampire',\n",
    "       'https://genius.com/albums/Izone/Bloom-iz',\n",
    "       'https://genius.com/albums/Izone/Oneiric-diary'] # let's start with these urls\n",
    "\n",
    "TIMEOUT = 20 # set timeout before each request\n",
    "LYRIC_PATH = '../data/lyrics.txt' # path to store the scraped lyrics"
   ]
  },
  {
   "cell_type": "markdown",
   "metadata": {},
   "source": [
    "Now, onto the exciting part, scraping!"
   ]
  },
  {
   "cell_type": "code",
   "execution_count": null,
   "metadata": {},
   "outputs": [],
   "source": [
    "for u in URL:\n",
    "    print('Waiting for', TIMEOUT, 'seconds before the next album...')\n",
    "    time.sleep(TIMEOUT)\n",
    "    print('Current album:', u)\n",
    "    \n",
    "    req = requests.get(u) # initiate GET request to the url\n",
    "    soup = BeautifulSoup(req.text, 'lxml') # use BeautifulSoup to find the html tags\n",
    "    \n",
    "    raw_url = []\n",
    "    for s in soup.find_all('div'):\n",
    "        link = s.find('a')\n",
    "        if link is not None:\n",
    "            raw_url.append(link.attrs['href'])\n",
    "            \n",
    "    songs = []\n",
    "    for r in raw_url:\n",
    "        x = re.search('^(http|https)://.*Izone-.*lyrics$', r)\n",
    "        if x is not None:\n",
    "            songs.append(r)\n",
    "            \n",
    "    non_duplicate_songs = []\n",
    "    for s in songs:\n",
    "        if s not in non_duplicate_songs:\n",
    "            non_duplicate_songs.append(s)\n",
    "            \n",
    "    for n in non_duplicate_songs:\n",
    "        print('Waiting for', TIMEOUT, 'seconds before writing the next song...')\n",
    "        time.sleep(TIMEOUT)\n",
    "        \n",
    "        print('Writing lyrics:', n)\n",
    "        req = requests.get(n)\n",
    "        soup = BeautifulSoup(req.text, 'lxml')\n",
    "        lyrics = []\n",
    "        for a in tqdm(soup.find_all('div')):\n",
    "            lyric = a.find('p')\n",
    "            if lyric is not None:\n",
    "                lyrics.append(lyric)\n",
    "    \n",
    "        lyrics = clean_html_tags(lyrics[0])\n",
    "        with open(LYRIC_PATH, 'a', encoding='utf-8') as f:\n",
    "            f.write(lyrics)"
   ]
  },
  {
   "cell_type": "code",
   "execution_count": null,
   "metadata": {},
   "outputs": [],
   "source": []
  },
  {
   "cell_type": "code",
   "execution_count": null,
   "metadata": {},
   "outputs": [],
   "source": []
  }
 ],
 "metadata": {
  "kernelspec": {
   "display_name": "Python 3",
   "language": "python",
   "name": "python3"
  },
  "language_info": {
   "codemirror_mode": {
    "name": "ipython",
    "version": 3
   },
   "file_extension": ".py",
   "mimetype": "text/x-python",
   "name": "python",
   "nbconvert_exporter": "python",
   "pygments_lexer": "ipython3",
   "version": "3.7.6"
  }
 },
 "nbformat": 4,
 "nbformat_minor": 4
}
